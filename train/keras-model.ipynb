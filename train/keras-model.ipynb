{
 "cells": [
  {
   "cell_type": "code",
   "execution_count": 1,
   "metadata": {},
   "outputs": [
    {
     "name": "stderr",
     "output_type": "stream",
     "text": [
      "Using TensorFlow backend.\n"
     ]
    }
   ],
   "source": [
    "from keras import backend as K\n",
    "from keras.layers import *\n",
    "from keras.models import Sequential\n",
    "from keras.preprocessing.image import ImageDataGenerator\n",
    "import tensorflowjs"
   ]
  },
  {
   "cell_type": "code",
   "execution_count": 2,
   "metadata": {},
   "outputs": [],
   "source": [
    "train_datagen = ImageDataGenerator(\n",
    "    rescale=1 / 255, # rescale to between 0 and 1\n",
    "    zoom_range=0.2, # random zooms\n",
    ")\n",
    "test_datagen = ImageDataGenerator(\n",
    "    rescale=1 / 255,\n",
    ")"
   ]
  },
  {
   "cell_type": "code",
   "execution_count": 3,
   "metadata": {},
   "outputs": [
    {
     "name": "stdout",
     "output_type": "stream",
     "text": [
      "Found 85 images belonging to 2 classes.\n",
      "Found 42 images belonging to 2 classes.\n"
     ]
    }
   ],
   "source": [
    "# Default image shape is 256\n",
    "train_generator = train_datagen.flow_from_directory(\n",
    "    'data/train/',\n",
    "    class_mode='binary', # Could be categorical in the future\n",
    ")\n",
    "validation_generator = test_datagen.flow_from_directory(\n",
    "    'data/validation/',\n",
    "    class_mode='binary', # Could be categorical in the future\n",
    ")"
   ]
  },
  {
   "cell_type": "code",
   "execution_count": 4,
   "metadata": {},
   "outputs": [
    {
     "name": "stdout",
     "output_type": "stream",
     "text": [
      "WARNING:tensorflow:From /home/briank/git/brian-bk/ie-chrome/train/venv/lib/python3.7/site-packages/tensorflow/python/framework/op_def_library.py:263: colocate_with (from tensorflow.python.framework.ops) is deprecated and will be removed in a future version.\n",
      "Instructions for updating:\n",
      "Colocations handled automatically by placer.\n",
      "WARNING:tensorflow:From /home/briank/git/brian-bk/ie-chrome/train/venv/lib/python3.7/site-packages/keras/backend/tensorflow_backend.py:3445: calling dropout (from tensorflow.python.ops.nn_ops) with keep_prob is deprecated and will be removed in a future version.\n",
      "Instructions for updating:\n",
      "Please use `rate` instead of `keep_prob`. Rate should be set to `rate = 1 - keep_prob`.\n"
     ]
    }
   ],
   "source": [
    "model = Sequential()\n",
    "\n",
    "model.add(Conv2D(32, (3, 3), input_shape=train_generator.image_shape))\n",
    "model.add(Activation('relu'))\n",
    "model.add(MaxPooling2D(pool_size=(2, 2)))\n",
    "\n",
    "model.add(Conv2D(32, (3, 3)))\n",
    "model.add(Activation('relu'))\n",
    "model.add(MaxPooling2D(pool_size=(2, 2)))\n",
    "\n",
    "model.add(Conv2D(64, (3, 3)))\n",
    "model.add(Activation('relu'))\n",
    "model.add(MaxPooling2D(pool_size=(2, 2)))\n",
    "\n",
    "model.add(Flatten())\n",
    "model.add(Dense(64))\n",
    "model.add(Activation('relu'))\n",
    "model.add(Dropout(0.5))\n",
    "model.add(Dense(1))\n",
    "model.add(Activation('sigmoid'))"
   ]
  },
  {
   "cell_type": "code",
   "execution_count": 5,
   "metadata": {},
   "outputs": [],
   "source": [
    "model.compile(\n",
    "    loss='binary_crossentropy',\n",
    "    optimizer='rmsprop',\n",
    "    metrics=['accuracy'],\n",
    ")"
   ]
  },
  {
   "cell_type": "code",
   "execution_count": 6,
   "metadata": {},
   "outputs": [
    {
     "name": "stdout",
     "output_type": "stream",
     "text": [
      "WARNING:tensorflow:From /home/briank/git/brian-bk/ie-chrome/train/venv/lib/python3.7/site-packages/tensorflow/python/ops/math_ops.py:3066: to_int32 (from tensorflow.python.ops.math_ops) is deprecated and will be removed in a future version.\n",
      "Instructions for updating:\n",
      "Use tf.cast instead.\n",
      "Epoch 1/10\n"
     ]
    },
    {
     "name": "stderr",
     "output_type": "stream",
     "text": [
      "/home/briank/git/brian-bk/ie-chrome/train/venv/lib/python3.7/site-packages/PIL/Image.py:968: UserWarning: Palette images with Transparency   expressed in bytes should be converted to RGBA images\n",
      "  ' expressed in bytes should be converted ' +\n"
     ]
    },
    {
     "name": "stdout",
     "output_type": "stream",
     "text": [
      "2/2 [==============================] - 10s 5s/step - loss: 1.3073 - acc: 0.6406 - val_loss: 1.3825 - val_acc: 0.6875\n",
      "Epoch 2/10\n",
      "2/2 [==============================] - 6s 3s/step - loss: 1.3761 - acc: 0.4606 - val_loss: 0.7076 - val_acc: 0.7000\n",
      "Epoch 3/10\n",
      "2/2 [==============================] - 7s 3s/step - loss: 0.9269 - acc: 0.7446 - val_loss: 0.6156 - val_acc: 0.6875\n",
      "Epoch 4/10\n",
      "2/2 [==============================] - 7s 3s/step - loss: 0.5415 - acc: 0.7656 - val_loss: 0.4913 - val_acc: 0.8000\n",
      "Epoch 5/10\n",
      "2/2 [==============================] - 6s 3s/step - loss: 0.7076 - acc: 0.7058 - val_loss: 0.5239 - val_acc: 0.6875\n",
      "Epoch 6/10\n",
      "2/2 [==============================] - 5s 3s/step - loss: 0.4383 - acc: 0.8275 - val_loss: 0.3653 - val_acc: 0.7000\n",
      "Epoch 7/10\n",
      "2/2 [==============================] - 7s 4s/step - loss: 0.4484 - acc: 0.7656 - val_loss: 0.3381 - val_acc: 0.8750\n",
      "Epoch 8/10\n",
      "2/2 [==============================] - 5s 3s/step - loss: 0.3652 - acc: 0.8111 - val_loss: 0.4916 - val_acc: 0.8000\n",
      "Epoch 9/10\n",
      "2/2 [==============================] - 6s 3s/step - loss: 0.3525 - acc: 0.8776 - val_loss: 1.2034 - val_acc: 0.7188\n",
      "Epoch 10/10\n",
      "2/2 [==============================] - 6s 3s/step - loss: 0.5009 - acc: 0.7812 - val_loss: 0.4472 - val_acc: 0.7000\n"
     ]
    },
    {
     "data": {
      "text/plain": [
       "<keras.callbacks.History at 0x7fed0eace0f0>"
      ]
     },
     "execution_count": 6,
     "metadata": {},
     "output_type": "execute_result"
    }
   ],
   "source": [
    "model.fit_generator(\n",
    "    train_generator,\n",
    "    steps_per_epoch=train_generator.samples // train_generator.batch_size,\n",
    "    epochs=10,\n",
    "    validation_data=validation_generator,\n",
    "    validation_steps=validation_generator.samples // validation_generator.batch_size,\n",
    ")"
   ]
  },
  {
   "cell_type": "code",
   "execution_count": 8,
   "metadata": {},
   "outputs": [],
   "source": [
    "model.save('models/initial.h5')\n",
    "tensorflowjs.converters.save_keras_model(model, 'models/initial-tfjs')"
   ]
  }
 ],
 "metadata": {
  "kernelspec": {
   "display_name": "Python 3",
   "language": "python",
   "name": "python3"
  },
  "language_info": {
   "codemirror_mode": {
    "name": "ipython",
    "version": 3
   },
   "file_extension": ".py",
   "mimetype": "text/x-python",
   "name": "python",
   "nbconvert_exporter": "python",
   "pygments_lexer": "ipython3",
   "version": "3.7.1"
  }
 },
 "nbformat": 4,
 "nbformat_minor": 2
}
